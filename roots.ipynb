{
 "cells": [
  {
   "attachments": {},
   "cell_type": "markdown",
   "metadata": {},
   "source": [
    "# Laboratório 2 - Zeros de Função"
   ]
  },
  {
   "attachments": {},
   "cell_type": "markdown",
   "metadata": {},
   "source": [
    "### Aluno: Leonardo Peres Dias "
   ]
  },
  {
   "attachments": {},
   "cell_type": "markdown",
   "metadata": {},
   "source": [
    "Importação de bibliotecas:"
   ]
  },
  {
   "cell_type": "code",
   "execution_count": 1,
   "metadata": {},
   "outputs": [],
   "source": [
    "import numpy as np"
   ]
  },
  {
   "attachments": {},
   "cell_type": "markdown",
   "metadata": {},
   "source": [
    "Definição da função a ser iterada:"
   ]
  },
  {
   "cell_type": "code",
   "execution_count": 2,
   "metadata": {},
   "outputs": [],
   "source": [
    "def f(x):\n",
    "    return 4*np.sin(x)-np.exp(x)"
   ]
  },
  {
   "attachments": {},
   "cell_type": "markdown",
   "metadata": {},
   "source": [
    "Implementação do método da bissecção:"
   ]
  },
  {
   "cell_type": "code",
   "execution_count": 3,
   "metadata": {},
   "outputs": [],
   "source": [
    "def bissec(a, b, eps, maxIt):\n",
    "    k = 0\n",
    "    while k < maxIt:\n",
    "        r = (a+b)/2\n",
    "        k = k + 1\n",
    "        if abs(b-a) < eps:\n",
    "            r = (a+b)/2\n",
    "            print('O valor da raiz aproximada é {}, obtido em {} iterações.'.format(round(r, 12), k))\n",
    "            return\n",
    "        if f(a)*f(r)>0:\n",
    "            a = r\n",
    "        else:\n",
    "            b = r\n",
    "    print('O valor da raiz aproximada é {}, obtido em {} iterações.'.format(round(r, 12), k))\n"
   ]
  },
  {
   "cell_type": "code",
   "execution_count": 4,
   "metadata": {},
   "outputs": [
    {
     "name": "stdout",
     "output_type": "stream",
     "text": [
      "O valor da raiz aproximada é 0.359375, obtido em 6 iterações.\n"
     ]
    }
   ],
   "source": [
    "bissec(0, 1, 0.00001, 6)"
   ]
  },
  {
   "cell_type": "code",
   "execution_count": 5,
   "metadata": {},
   "outputs": [
    {
     "name": "stdout",
     "output_type": "stream",
     "text": [
      "O valor da raiz aproximada é 0.370555877686, obtido em 18 iterações.\n"
     ]
    }
   ],
   "source": [
    "bissec(0, 1, 0.00001, 100)"
   ]
  },
  {
   "attachments": {},
   "cell_type": "markdown",
   "metadata": {},
   "source": [
    "Implementação do método da falsa posição:"
   ]
  },
  {
   "cell_type": "code",
   "execution_count": 6,
   "metadata": {},
   "outputs": [],
   "source": [
    "def falsePos(a, b, eps1, eps2, maxIt):\n",
    "    k = 0\n",
    "    while k < maxIt:\n",
    "        r=(a*f(b)-b*f(a))/(f(b)-f(a))\n",
    "        k = k+1\n",
    "        yr = f(r)\n",
    "        if abs(b-a) < eps1 or abs(yr) < eps2:\n",
    "            print('O valor da raiz aproximada é {}, obtido em {} iterações.'.format(round(r, 12), k))\n",
    "            return\n",
    "        if f(a)*yr>0:\n",
    "            a = r\n",
    "        else:\n",
    "            b = r\n",
    "    print('O valor da raiz aproximada é {}, obtido em {} iterações.'.format(round(r, 12), k))\n"
   ]
  },
  {
   "cell_type": "code",
   "execution_count": 7,
   "metadata": {},
   "outputs": [
    {
     "name": "stdout",
     "output_type": "stream",
     "text": [
      "O valor da raiz aproximada é 0.37058852288, obtido em 6 iterações.\n"
     ]
    }
   ],
   "source": [
    "falsePos(0, 1, 0.00001, 0.00001, 6)"
   ]
  },
  {
   "cell_type": "code",
   "execution_count": 8,
   "metadata": {},
   "outputs": [
    {
     "name": "stdout",
     "output_type": "stream",
     "text": [
      "O valor da raiz aproximada é 0.370558828355, obtido em 8 iterações.\n"
     ]
    }
   ],
   "source": [
    "falsePos(0, 1, 0.00001, 0.00001, 100)"
   ]
  },
  {
   "attachments": {},
   "cell_type": "markdown",
   "metadata": {},
   "source": [
    "Implementação do método do ponto fixo:"
   ]
  },
  {
   "cell_type": "code",
   "execution_count": 9,
   "metadata": {},
   "outputs": [],
   "source": [
    "def phi(x):\n",
    "    return x-2*np.sin(x)+0.5*np.exp(x)"
   ]
  },
  {
   "cell_type": "code",
   "execution_count": 10,
   "metadata": {},
   "outputs": [],
   "source": [
    "def fixedPoint(xi, eps1, eps2, maxIt):\n",
    "    k = 0\n",
    "    if abs(f(xi))<eps1:\n",
    "            r=xi\n",
    "            print('O valor da raiz aproximada é {}, obtido em {} iterações.'.format(round(r, 12), k))\n",
    "            return\n",
    "    r=xi; tmp=r; k=1\n",
    "    while k<maxIt:\n",
    "        tmp = r\n",
    "        r = phi(r)\n",
    "        if abs(f(r)) < eps1 or abs(r-tmp) < eps2:\n",
    "            break\n",
    "        k = k + 1\n",
    "    print('O valor da raiz aproximada é {}, obtido em {} iterações.'.format(round(r, 12), k))"
   ]
  },
  {
   "cell_type": "code",
   "execution_count": 11,
   "metadata": {},
   "outputs": [
    {
     "name": "stdout",
     "output_type": "stream",
     "text": [
      "O valor da raiz aproximada é 0.370556113761, obtido em 5 iterações.\n"
     ]
    }
   ],
   "source": [
    "fixedPoint(0.5, 0.00001, 0.00001, 6)"
   ]
  },
  {
   "cell_type": "code",
   "execution_count": 12,
   "metadata": {},
   "outputs": [
    {
     "name": "stdout",
     "output_type": "stream",
     "text": [
      "O valor da raiz aproximada é 0.370556113761, obtido em 5 iterações.\n"
     ]
    }
   ],
   "source": [
    "fixedPoint(0.5, 0.00001, 0.00001, 100)"
   ]
  },
  {
   "attachments": {},
   "cell_type": "markdown",
   "metadata": {},
   "source": [
    "Implementação do método de Newton-Raphson:"
   ]
  },
  {
   "cell_type": "code",
   "execution_count": 13,
   "metadata": {},
   "outputs": [],
   "source": [
    "def df(x):\n",
    "    return 4*np.cos(x)-np.exp(x)"
   ]
  },
  {
   "cell_type": "code",
   "execution_count": 14,
   "metadata": {},
   "outputs": [],
   "source": [
    "def nRaph(x0, eps1, eps2, maxIt):\n",
    "    k = 0; tmp=0; r=x0\n",
    "    if abs(f(x0))<eps1:\n",
    "            print('O valor da raiz aproximada é {}, obtido em {} iterações.'.format(round(r, 12), k))\n",
    "            return\n",
    "    r=x0; tmp=r; k=1\n",
    "    while k<maxIt:\n",
    "        tmp = r\n",
    "        r = r - (f(r)/df(r))\n",
    "        k = k + 1\n",
    "        if abs(f(r)) < eps1 or abs(r-tmp) < eps2:\n",
    "            print('O valor da raiz aproximada é {}, obtido em {} iterações.'.format(round(r, 12), k))\n",
    "            return\n",
    "    print('O valor da raiz aproximada é {}, obtido em {} iterações.'.format(round(r, 12), k))"
   ]
  },
  {
   "cell_type": "code",
   "execution_count": 15,
   "metadata": {},
   "outputs": [
    {
     "name": "stdout",
     "output_type": "stream",
     "text": [
      "O valor da raiz aproximada é 0.370558083761, obtido em 4 iterações.\n"
     ]
    }
   ],
   "source": [
    "nRaph(0.5, 0.00001, 0.00001, 6)"
   ]
  },
  {
   "cell_type": "code",
   "execution_count": 16,
   "metadata": {},
   "outputs": [
    {
     "name": "stdout",
     "output_type": "stream",
     "text": [
      "O valor da raiz aproximada é 0.370558083761, obtido em 4 iterações.\n"
     ]
    }
   ],
   "source": [
    "nRaph(0.5, 0.00001, 0.00001, 100)"
   ]
  },
  {
   "attachments": {},
   "cell_type": "markdown",
   "metadata": {},
   "source": [
    "Implementação do método da secante:"
   ]
  },
  {
   "cell_type": "code",
   "execution_count": 17,
   "metadata": {},
   "outputs": [],
   "source": [
    "def sec(x0, x1, eps1, eps2, maxIt):\n",
    "    k = 0; tmp=x0; r=x1\n",
    "    if abs(f(tmp))<eps1:\n",
    "            print('O valor da raiz aproximada é {}, obtido em {} iterações.'.format(round(tmp, 12), k))\n",
    "            return\n",
    "    if abs(f(r))<eps1 or abs(r-tmp)<eps2:\n",
    "            print('O valor da raiz aproximada é {}, obtido em {} iterações.'.format(round(r, 12), k))\n",
    "            return\n",
    "    while k<maxIt:\n",
    "        tmp2 = r\n",
    "        r=r-(f(r)/(f(r)-f(tmp)))*(r-tmp)\n",
    "        k = k + 1\n",
    "        if abs(f(r)) < eps1 or abs(r-tmp2) < eps2:\n",
    "            print('O valor da raiz aproximada é {}, obtido em {} iterações.'.format(round(r, 12), k))\n",
    "            return\n",
    "        tmp = tmp2\n",
    "    print('O valor da raiz aproximada é {}, obtido em {} iterações.'.format(round(r, 12), k))"
   ]
  },
  {
   "cell_type": "code",
   "execution_count": 18,
   "metadata": {},
   "outputs": [
    {
     "name": "stdout",
     "output_type": "stream",
     "text": [
      "O valor da raiz aproximada é 0.370563838916, obtido em 6 iterações.\n"
     ]
    }
   ],
   "source": [
    "sec(0, 1, 0.00001, 0.00001, 6)"
   ]
  },
  {
   "cell_type": "code",
   "execution_count": 19,
   "metadata": {},
   "outputs": [
    {
     "name": "stdout",
     "output_type": "stream",
     "text": [
      "O valor da raiz aproximada é 0.370558098277, obtido em 7 iterações.\n"
     ]
    }
   ],
   "source": [
    "sec(0, 1, 0.00001, 0.00001, 100)"
   ]
  },
  {
   "attachments": {},
   "cell_type": "markdown",
   "metadata": {},
   "source": [
    "<img src=\"Screenshot 2023-04-14 at 03.48.48.png\"/>"
   ]
  },
  {
   "attachments": {},
   "cell_type": "markdown",
   "metadata": {},
   "source": [
    "### Discussão"
   ]
  },
  {
   "attachments": {},
   "cell_type": "markdown",
   "metadata": {},
   "source": [
    "Note que quando fixamos o número máximo de iterações para 6, os métodos da bissecção, falsa posição e secante não atingem a precisão esperada, pois para isso necessitam de mais iterações. \n",
    "\n",
    "Além disso, o método de Newton-Raphson se mostrou como sendo o método mais eficiente, pois fixada uma mesma precisão, foi aquele que encontrou a raiz da equação em menos iterações. Ao mesmo tempo, verifica-se a ineficiência relativa do método da bissecção, dado o maior número de iterações necessárias para que se atingisse a precisão requisitada para o encontro da raiz."
   ]
  }
 ],
 "metadata": {
  "kernelspec": {
   "display_name": "MY_ENV",
   "language": "python",
   "name": "python3"
  },
  "language_info": {
   "codemirror_mode": {
    "name": "ipython",
    "version": 3
   },
   "file_extension": ".py",
   "mimetype": "text/x-python",
   "name": "python",
   "nbconvert_exporter": "python",
   "pygments_lexer": "ipython3",
   "version": "3.9.16"
  },
  "orig_nbformat": 4
 },
 "nbformat": 4,
 "nbformat_minor": 2
}
